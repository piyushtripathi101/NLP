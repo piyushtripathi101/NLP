{
 "cells": [
  {
   "cell_type": "markdown",
   "metadata": {},
   "source": [
    "<b> Tokenization\n",
    "1. Word \n",
    "2.Sentence\n",
    "3.N-gram\n",
    "4.Regular Expression"
   ]
  },
  {
   "cell_type": "code",
   "execution_count": 1,
   "metadata": {
    "scrolled": true
   },
   "outputs": [
    {
     "name": "stdout",
     "output_type": "stream",
     "text": [
      "[nltk_data] Downloading package punkt to\n",
      "[nltk_data]     C:\\Users\\SHASHI\\AppData\\Roaming\\nltk_data...\n",
      "[nltk_data]   Package punkt is already up-to-date!\n"
     ]
    },
    {
     "data": {
      "text/plain": [
       "True"
      ]
     },
     "execution_count": 1,
     "metadata": {},
     "output_type": "execute_result"
    }
   ],
   "source": [
    "import nltk # import package for tokenization\n",
    "nltk.download('punkt') # download all spporting function /files for NLTK package"
   ]
  },
  {
   "cell_type": "code",
   "execution_count": 2,
   "metadata": {},
   "outputs": [
    {
     "name": "stdout",
     "output_type": "stream",
     "text": [
      "['I', 'love', 'Programming']\n"
     ]
    }
   ],
   "source": [
    "# Word tokenization\n",
    "from nltk.tokenize import word_tokenize\n",
    "my_text = \"I love Programming\"\n",
    "print(word_tokenize(my_text))"
   ]
  },
  {
   "cell_type": "code",
   "execution_count": 3,
   "metadata": {},
   "outputs": [
    {
     "name": "stdout",
     "output_type": "stream",
     "text": [
      "['I love Programming']\n"
     ]
    }
   ],
   "source": [
    "# Sentence tokenization\n",
    "from nltk.tokenize import sent_tokenize\n",
    "print(sent_tokenize(my_text))"
   ]
  },
  {
   "cell_type": "code",
   "execution_count": 4,
   "metadata": {},
   "outputs": [
    {
     "name": "stdout",
     "output_type": "stream",
     "text": [
      "[('I',), ('love',), ('Programming',)]\n",
      "[('I', 'love'), ('love', 'Programming')]\n",
      "[('I', 'love', 'Programming')]\n"
     ]
    }
   ],
   "source": [
    "#Tokenization - Ngrams\n",
    "from nltk.util import ngrams\n",
    "my_words = word_tokenize(my_text) # This is the list of all words\n",
    "#my_words=\"My name is a apple\"\n",
    "onegrams = list(ngrams(my_words,1)) # This is for one-word combos, but can pick any n\n",
    "twograms = list(ngrams(my_words,2)) # This is for two-word combos, but can pick any n\n",
    "threegrams = list(ngrams(my_words,3)) # This is for three-word combos, but can pick any n\n",
    "print(onegrams)\n",
    "print(twograms)\n",
    "print(threegrams)"
   ]
  },
  {
   "cell_type": "code",
   "execution_count": 5,
   "metadata": {},
   "outputs": [
    {
     "name": "stdout",
     "output_type": "stream",
     "text": [
      "['i', 'love', 'Programming,', '5', 'programmers', 'are', 'working', 'in', 'This', '@', 'Company', '9', '45']\n",
      "['Programming', 'This', 'Company']\n",
      "['5', '9', '45']\n"
     ]
    }
   ],
   "source": [
    "#Tokenization - Regex\n",
    "from nltk.tokenize import RegexpTokenizer\n",
    "my_text = \"i love Programming, 5 programmers are working in This @ Company 9 45\"\n",
    "whitespace_tokenizer = RegexpTokenizer(\"\\s+\", gaps=True)\n",
    "print(whitespace_tokenizer.tokenize(my_text))\n",
    "\n",
    "# RegexpTokenizer to match only words starting with capital letters\n",
    "cap_tokenizer = RegexpTokenizer(\"[A-Z]['\\w]+\")\n",
    "print(cap_tokenizer.tokenize(my_text))\n",
    "\n",
    "# RegexpTokenizer to match only Numeric words\n",
    "Num_tokenizer = RegexpTokenizer(\"\\d+\")\n",
    "print(Num_tokenizer.tokenize(my_text))"
   ]
  },
  {
   "cell_type": "code",
   "execution_count": null,
   "metadata": {},
   "outputs": [],
   "source": []
  }
 ],
 "metadata": {
  "kernelspec": {
   "display_name": "Python 3",
   "language": "python",
   "name": "python3"
  },
  "language_info": {
   "codemirror_mode": {
    "name": "ipython",
    "version": 3
   },
   "file_extension": ".py",
   "mimetype": "text/x-python",
   "name": "python",
   "nbconvert_exporter": "python",
   "pygments_lexer": "ipython3",
   "version": "3.6.4"
  }
 },
 "nbformat": 4,
 "nbformat_minor": 2
}
